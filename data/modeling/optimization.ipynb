{
 "cells": [
  {
   "cell_type": "code",
   "execution_count": 8,
   "id": "b9a6122c",
   "metadata": {},
   "outputs": [],
   "source": [
    "import pandas as pd\n",
    "import random\n",
    "\n",
    "# Load vehicle data\n",
    "vehicle_df = pd.read_csv(\"../data_src/to_db/routes.csv\")\n",
    "\n",
    "# Provided route names\n",
    "route_names = [\n",
    "    \"Abeka Market station to Rawlings Park\",\n",
    "    \"Abeka Market station to Kaneshie Mkt Cmplx\",\n",
    "    \"Abeka lapaz to Ashalaja\",\n",
    "    \"Ashalaja to Abeka lapaz\",\n",
    "    \"Asofan Station to Abeka lapaz\",\n",
    "    \"Abeka lapaz to Asofan Station\",\n",
    "    \"Abeka lapaz to Agbogbloshie Station No. 2\",\n",
    "    \"Agbogbloshie Station No. 2 to Abeka lapaz\",\n",
    "    \"Aunti Eku Pallas Town to Abeka lapaz\",\n",
    "    \"Abeka lapaz to Sakumono station\",\n",
    "    \"Sakumono station to Abeka lapaz\",\n",
    "    \"Ashiaman Station to Abeka lapaz\"\n",
    "]\n",
    "\n",
    "# Generate preferred and named routes\n",
    "def generate_routes(route_list, max_count):\n",
    "    return \", \".join(random.sample(route_list, random.randint(1, max_count)))\n",
    "\n",
    "vehicle_df['preferred_routes'] = [generate_routes([f\"r{i}\" for i in range(1, 13)], 5) for _ in range(len(vehicle_df))]\n",
    "vehicle_df['named_routes'] = [generate_routes(route_names, 3) for _ in range(len(vehicle_df))]\n",
    "\n",
    "# Display first 15 rows\n",
    "vehicle_df[['named_routes']][0:51].to_csv(\"../data_src/to_db/selected_routes.csv\", index=False)\n"
   ]
  },
  {
   "cell_type": "code",
   "execution_count": null,
   "id": "07483127",
   "metadata": {},
   "outputs": [],
   "source": []
  }
 ],
 "metadata": {
  "kernelspec": {
   "display_name": "amsVenv",
   "language": "python",
   "name": "python3"
  },
  "language_info": {
   "codemirror_mode": {
    "name": "ipython",
    "version": 3
   },
   "file_extension": ".py",
   "mimetype": "text/x-python",
   "name": "python",
   "nbconvert_exporter": "python",
   "pygments_lexer": "ipython3",
   "version": "3.11.5"
  }
 },
 "nbformat": 4,
 "nbformat_minor": 5
}
